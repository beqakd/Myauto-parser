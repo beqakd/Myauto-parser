{
 "cells": [
  {
   "cell_type": "code",
   "execution_count": 4,
   "metadata": {},
   "outputs": [],
   "source": [
    "import pandas as pd\n",
    "import numpy as np\n",
    "import requests\n",
    "from bs4 import BeautifulSoup"
   ]
  },
  {
   "cell_type": "code",
   "execution_count": 5,
   "metadata": {},
   "outputs": [],
   "source": [
    "res = requests.get(\"https://www.myauto.ge/ka/pr/45806513/iyideba-hechbeqi-toyota-aqua-2013-benzini-geo?fbclid=IwAR0AQcij4EiU9dAe_MCPVVhnS_sFVTMBEC3A_l0Ms8dLMufLDle1VBam01A\")"
   ]
  },
  {
   "cell_type": "code",
   "execution_count": 15,
   "metadata": {},
   "outputs": [],
   "source": [
    "soup = BeautifulSoup(res.content,'lxml') "
   ]
  },
  {
   "cell_type": "code",
   "execution_count": 16,
   "metadata": {},
   "outputs": [],
   "source": [
    "table = soup.find_all('table')[0] "
   ]
  },
  {
   "cell_type": "code",
   "execution_count": null,
   "metadata": {},
   "outputs": [],
   "source": [
    "# დირექტორიის შექმნა --> სურათების ჩამატება\n",
    "# უკან დაბრუნება"
   ]
  },
  {
   "cell_type": "code",
   "execution_count": 3,
   "metadata": {},
   "outputs": [],
   "source": [
    "import os"
   ]
  },
  {
   "cell_type": "code",
   "execution_count": 9,
   "metadata": {},
   "outputs": [
    {
     "ename": "NameError",
     "evalue": "name 'pwd' is not defined",
     "output_type": "error",
     "traceback": [
      "\u001b[1;31m---------------------------------------------------------------------------\u001b[0m",
      "\u001b[1;31mNameError\u001b[0m                                 Traceback (most recent call last)",
      "\u001b[1;32m<ipython-input-9-d4f3cfddda7d>\u001b[0m in \u001b[0;36m<module>\u001b[1;34m\u001b[0m\n\u001b[1;32m----> 1\u001b[1;33m \u001b[0mmy_path\u001b[0m \u001b[1;33m=\u001b[0m \u001b[0mpwd\u001b[0m\u001b[1;33m\u001b[0m\u001b[1;33m\u001b[0m\u001b[0m\n\u001b[0m",
      "\u001b[1;31mNameError\u001b[0m: name 'pwd' is not defined"
     ]
    }
   ],
   "source": [
    "my_path = pwd"
   ]
  },
  {
   "cell_type": "code",
   "execution_count": 8,
   "metadata": {},
   "outputs": [
    {
     "ename": "NameError",
     "evalue": "name 'pwd' is not defined",
     "output_type": "error",
     "traceback": [
      "\u001b[1;31m---------------------------------------------------------------------------\u001b[0m",
      "\u001b[1;31mNameError\u001b[0m                                 Traceback (most recent call last)",
      "\u001b[1;32m<ipython-input-8-c5e0d8ba60be>\u001b[0m in \u001b[0;36m<module>\u001b[1;34m\u001b[0m\n\u001b[0;32m      1\u001b[0m \u001b[1;31m# os.mkdir(\"test\")\u001b[0m\u001b[1;33m\u001b[0m\u001b[1;33m\u001b[0m\u001b[1;33m\u001b[0m\u001b[0m\n\u001b[1;32m----> 2\u001b[1;33m \u001b[0mos\u001b[0m\u001b[1;33m.\u001b[0m\u001b[0mchdir\u001b[0m\u001b[1;33m(\u001b[0m\u001b[0mpwd\u001b[0m \u001b[1;33m+\u001b[0m \u001b[1;34m\"\\\\test\"\u001b[0m\u001b[1;33m)\u001b[0m\u001b[1;33m\u001b[0m\u001b[1;33m\u001b[0m\u001b[0m\n\u001b[0m",
      "\u001b[1;31mNameError\u001b[0m: name 'pwd' is not defined"
     ]
    }
   ],
   "source": [
    "# os.mkdir(\"test\")\n",
    "os.chdir(pwd + \"\\\\test\")"
   ]
  },
  {
   "cell_type": "code",
   "execution_count": 10,
   "metadata": {},
   "outputs": [
    {
     "data": {
      "text/plain": [
       "'C:\\\\Users\\\\bgoga\\\\Desktop\\\\computer vision'"
      ]
     },
     "execution_count": 10,
     "metadata": {},
     "output_type": "execute_result"
    }
   ],
   "source": [
    "pwd"
   ]
  },
  {
   "cell_type": "code",
   "execution_count": null,
   "metadata": {},
   "outputs": [],
   "source": [
    "45609231"
   ]
  },
  {
   "cell_type": "code",
   "execution_count": 1,
   "metadata": {},
   "outputs": [
    {
     "data": {
      "text/plain": [
       "('local-filename.jpg', <http.client.HTTPMessage at 0x1f978da0e88>)"
      ]
     },
     "execution_count": 1,
     "metadata": {},
     "output_type": "execute_result"
    }
   ],
   "source": [
    "import urllib.request\n",
    "\n",
    "urllib.request.urlretrieve(\"https://static.my.ge/myauto/photos/1/3/2/9/0/large/45609231_1.jpg?v=16\", \"local-filename.jpg\")"
   ]
  },
  {
   "cell_type": "code",
   "execution_count": null,
   "metadata": {},
   "outputs": [],
   "source": []
  },
  {
   "cell_type": "code",
   "execution_count": null,
   "metadata": {},
   "outputs": [],
   "source": []
  },
  {
   "cell_type": "code",
   "execution_count": null,
   "metadata": {},
   "outputs": [],
   "source": []
  },
  {
   "cell_type": "code",
   "execution_count": 25,
   "metadata": {},
   "outputs": [
    {
     "data": {
      "text/plain": [
       "[<table class=\"detail-car-table\"><tr><th class=\"th-left\"><div class=\"th-key\"> მწარმოებელი </div><div class=\"th-value\"><h2>TOYOTA</h2></div></th><th class=\"th-right\"><div class=\"th-key\"> ABS</div><div class=\"th-value\"><i class=\"fa fa-check\"></i></div></th></tr><tr><th class=\"th-left\"><div class=\"th-key\"> მოდელი </div><div class=\"th-value\"><h2>Aqua s</h2></div></th><th class=\"th-right\"><div class=\"th-key\"> ელ. შუშები</div><div class=\"th-value\"><i class=\"fa fa-check\"></i></div></th></tr><tr><th class=\"th-left\"><div class=\"th-key\"> გამოშვების წელი</div><div class=\"th-value\"> 2013</div></th><th class=\"th-right\"><div class=\"th-key\"> კონდიციონერი</div><div class=\"th-value\"><i class=\"fa fa-check\"></i></div></th></tr><tr><th class=\"th-left\"><div class=\"th-key\"> კატეგორია</div><div class=\"th-value\"><h2>ჰეჩბექი</h2></div></th><th class=\"th-right\"><div class=\"th-key\"> კლიმატკონტროლი </div><div class=\"th-value\"><i class=\"fa fa-check\"></i></div></th></tr><tr><th class=\"th-left\"><div class=\"th-key\"> საწვავის ტიპი </div><div class=\"th-value\"> ბენზინი </div></th><th class=\"th-right\"><div class=\"th-key\"> ტყავის სალონი</div><div class=\"th-value\"><i class=\"fa fa-minus\"></i></div></th></tr><tr><th class=\"th-left\"><div class=\"th-key\">\n",
       "                                             ძრავის მოცულობა\n",
       "                                             \n",
       "                                         </div><div class=\"th-value\">\n",
       "                                             1.4\n",
       "                                             \n",
       "                                         </div></th><th class=\"th-right\"><div class=\"th-key\"> დისკები </div><div class=\"th-value\"><i class=\"fa fa-check\"></i></div></th></tr><tr><th class=\"th-left\"><div class=\"th-key\"> გარბენი</div><div class=\"th-value\"> 31563  კმ</div></th><th class=\"th-right\"><div class=\"th-key\"> ნავიგაცია</div><div class=\"th-value\"><i class=\"fa fa-minus\"></i></div></th></tr><tr><th class=\"th-left\"><div class=\"th-key\"> ცილინდრები </div><div class=\"th-value\"> 4 </div></th><th class=\"th-right\"><div class=\"th-key\"> ცენტრალური საკეტი</div><div class=\"th-value\"><i class=\"fa fa-check\"></i></div></th></tr><tr><th class=\"th-left\"><div class=\"th-key\"> გადაცემათა კოლოფი</div><div class=\"th-value\"><h2>ავტომატიკა</h2></div></th><th class=\"th-right\"><div class=\"th-key\"> ლუქი</div><div class=\"th-value\"><i class=\"fa fa-minus\"></i></div></th></tr><tr><th class=\"th-left\"><div class=\"th-key\"> წამყვანი თვლები</div><div class=\"th-value\"> წინა</div></th><th class=\"th-right\"><div class=\"th-key\"> სიგნალიზაცია</div><div class=\"th-value\"><i class=\"fa fa-check\"></i></div></th></tr><tr><th class=\"th-left\"><div class=\"th-key\"> კარები </div><div class=\"th-value\"> 4/5</div></th><th class=\"th-right\"><div class=\"th-key\"> ბორტკომპიუტერი</div><div class=\"th-value\"><i class=\"fa fa-minus\"></i></div></th></tr><tr><th class=\"th-left\"><div class=\"th-key\"> საჭე</div><div class=\"th-value\">  მარჯვნივ   </div></th><th class=\"th-right\"><div class=\"th-key\"> ჰიდრავლიკა</div><div class=\"th-value\"><i class=\"fa fa-check\"></i></div></th></tr><tr><th class=\"th-left\"><div class=\"th-key\"> ფერი</div><div class=\"th-value\"> ნაცრისფერი </div></th><th class=\"th-right\"><div class=\"th-key\"> მოცურების საწინააღმდეგო</div><div class=\"th-value\"><i class=\"fa fa-check\"></i></div></th></tr><tr><th class=\"th-left\"><div class=\"th-key\"> სალონის ფერი</div><div class=\"th-value\">  შავი </div></th><th class=\"th-right\"><div class=\"th-key\">სავარძლების გათბობა</div><div class=\"th-value\"><i class=\"fa fa-minus\"></i></div></th></tr><tr><th class=\"th-left\"><div class=\"th-key\"> აირბეგი</div><div class=\"th-value\"> 6</div></th><th class=\"th-right\"><div class=\"th-key\">პარკინგკონტროლი</div><div class=\"th-value\"><i class=\"fa fa-check\"></i></div></th></tr><tr><th class=\"th-left\"><div class=\"th-key\">VIN</div><div class=\"th-value\"></div></th><th class=\"th-right\"><div class=\"th-key\"> უკანა ხედვის კამერა</div><div class=\"th-value\"><i class=\"fa fa-minus\"></i></div></th></tr><tr><th class=\"th-left\" style=\"vertical-align: top\"><a class=\"detail-link\" href=\"https://www.myauto.ge/ka/catalog/modellist/189\" target=\"_blank\"><i aria-hidden=\"true\" class=\"fa fa-info-circle\"></i> დეტალური მახასიათებლები</a></th><th class=\"th-right\"><div class=\"th-key\">ტექ. დათვალიერება</div><div class=\"th-value\"><i class=\"fa fa-check\"></i></div></th></tr></table>]"
      ]
     },
     "execution_count": 25,
     "metadata": {},
     "output_type": "execute_result"
    }
   ],
   "source": [
    "table"
   ]
  },
  {
   "cell_type": "code",
   "execution_count": null,
   "metadata": {},
   "outputs": [],
   "source": []
  },
  {
   "cell_type": "code",
   "execution_count": null,
   "metadata": {},
   "outputs": [],
   "source": []
  },
  {
   "cell_type": "code",
   "execution_count": null,
   "metadata": {},
   "outputs": [],
   "source": []
  },
  {
   "cell_type": "code",
   "execution_count": 17,
   "metadata": {},
   "outputs": [],
   "source": [
    "df = pd.read_html(str(table))"
   ]
  },
  {
   "cell_type": "code",
   "execution_count": 18,
   "metadata": {},
   "outputs": [
    {
     "name": "stdout",
     "output_type": "stream",
     "text": [
      "[]\n"
     ]
    }
   ],
   "source": [
    "print(df[0].to_json(orient='records'))"
   ]
  },
  {
   "cell_type": "code",
   "execution_count": 19,
   "metadata": {},
   "outputs": [
    {
     "data": {
      "text/plain": [
       "[Empty DataFrame\n",
       " Columns: [(მწარმოებელი TOYOTA, მოდელი Aqua s, გამოშვების წელი 2013, კატეგორიაჰეჩბექი, საწვავის ტიპი ბენზინი, ძრავის მოცულობა  1.4, გარბენი 31563 კმ, ცილინდრები 4, გადაცემათა კოლოფიავტომატიკა, წამყვანი თვლები წინა, კარები 4/5, საჭე მარჯვნივ, ფერი ნაცრისფერი, სალონის ფერი შავი, აირბეგი 6, VIN, დეტალური მახასიათებლები), (ABS, ელ. შუშები, კონდიციონერი, კლიმატკონტროლი, ტყავის სალონი, დისკები, ნავიგაცია, ცენტრალური საკეტი, ლუქი, სიგნალიზაცია, ბორტკომპიუტერი, ჰიდრავლიკა, მოცურების საწინააღმდეგო, სავარძლების გათბობა, პარკინგკონტროლი, უკანა ხედვის კამერა, ტექ. დათვალიერება)]\n",
       " Index: []]"
      ]
     },
     "execution_count": 19,
     "metadata": {},
     "output_type": "execute_result"
    }
   ],
   "source": [
    "df"
   ]
  },
  {
   "cell_type": "code",
   "execution_count": 12,
   "metadata": {},
   "outputs": [],
   "source": [
    "import pandas as pd\n",
    "import requests\n",
    "from bs4 import BeautifulSoup\n",
    "from selenium import webdriver"
   ]
  },
  {
   "cell_type": "code",
   "execution_count": 13,
   "metadata": {},
   "outputs": [
    {
     "ename": "WebDriverException",
     "evalue": "Message: 'chromedriver' executable needs to be in PATH. Please see https://sites.google.com/a/chromium.org/chromedriver/home\n",
     "output_type": "error",
     "traceback": [
      "\u001b[1;31m---------------------------------------------------------------------------\u001b[0m",
      "\u001b[1;31mFileNotFoundError\u001b[0m                         Traceback (most recent call last)",
      "\u001b[1;32m~\\anaconda3\\lib\\site-packages\\selenium\\webdriver\\common\\service.py\u001b[0m in \u001b[0;36mstart\u001b[1;34m(self)\u001b[0m\n\u001b[0;32m     75\u001b[0m                                             \u001b[0mstderr\u001b[0m\u001b[1;33m=\u001b[0m\u001b[0mself\u001b[0m\u001b[1;33m.\u001b[0m\u001b[0mlog_file\u001b[0m\u001b[1;33m,\u001b[0m\u001b[1;33m\u001b[0m\u001b[1;33m\u001b[0m\u001b[0m\n\u001b[1;32m---> 76\u001b[1;33m                                             stdin=PIPE)\n\u001b[0m\u001b[0;32m     77\u001b[0m         \u001b[1;32mexcept\u001b[0m \u001b[0mTypeError\u001b[0m\u001b[1;33m:\u001b[0m\u001b[1;33m\u001b[0m\u001b[1;33m\u001b[0m\u001b[0m\n",
      "\u001b[1;32m~\\anaconda3\\lib\\subprocess.py\u001b[0m in \u001b[0;36m__init__\u001b[1;34m(self, args, bufsize, executable, stdin, stdout, stderr, preexec_fn, close_fds, shell, cwd, env, universal_newlines, startupinfo, creationflags, restore_signals, start_new_session, pass_fds, encoding, errors, text)\u001b[0m\n\u001b[0;32m    799\u001b[0m                                 \u001b[0merrread\u001b[0m\u001b[1;33m,\u001b[0m \u001b[0merrwrite\u001b[0m\u001b[1;33m,\u001b[0m\u001b[1;33m\u001b[0m\u001b[1;33m\u001b[0m\u001b[0m\n\u001b[1;32m--> 800\u001b[1;33m                                 restore_signals, start_new_session)\n\u001b[0m\u001b[0;32m    801\u001b[0m         \u001b[1;32mexcept\u001b[0m\u001b[1;33m:\u001b[0m\u001b[1;33m\u001b[0m\u001b[1;33m\u001b[0m\u001b[0m\n",
      "\u001b[1;32m~\\anaconda3\\lib\\subprocess.py\u001b[0m in \u001b[0;36m_execute_child\u001b[1;34m(self, args, executable, preexec_fn, close_fds, pass_fds, cwd, env, startupinfo, creationflags, shell, p2cread, p2cwrite, c2pread, c2pwrite, errread, errwrite, unused_restore_signals, unused_start_new_session)\u001b[0m\n\u001b[0;32m   1206\u001b[0m                                          \u001b[0mos\u001b[0m\u001b[1;33m.\u001b[0m\u001b[0mfspath\u001b[0m\u001b[1;33m(\u001b[0m\u001b[0mcwd\u001b[0m\u001b[1;33m)\u001b[0m \u001b[1;32mif\u001b[0m \u001b[0mcwd\u001b[0m \u001b[1;32mis\u001b[0m \u001b[1;32mnot\u001b[0m \u001b[1;32mNone\u001b[0m \u001b[1;32melse\u001b[0m \u001b[1;32mNone\u001b[0m\u001b[1;33m,\u001b[0m\u001b[1;33m\u001b[0m\u001b[1;33m\u001b[0m\u001b[0m\n\u001b[1;32m-> 1207\u001b[1;33m                                          startupinfo)\n\u001b[0m\u001b[0;32m   1208\u001b[0m             \u001b[1;32mfinally\u001b[0m\u001b[1;33m:\u001b[0m\u001b[1;33m\u001b[0m\u001b[1;33m\u001b[0m\u001b[0m\n",
      "\u001b[1;31mFileNotFoundError\u001b[0m: [WinError 2] The system cannot find the file specified",
      "\nDuring handling of the above exception, another exception occurred:\n",
      "\u001b[1;31mWebDriverException\u001b[0m                        Traceback (most recent call last)",
      "\u001b[1;32m<ipython-input-13-f8065dc75e3a>\u001b[0m in \u001b[0;36m<module>\u001b[1;34m\u001b[0m\n\u001b[1;32m----> 1\u001b[1;33m \u001b[0mbrowser\u001b[0m \u001b[1;33m=\u001b[0m \u001b[0mwebdriver\u001b[0m\u001b[1;33m.\u001b[0m\u001b[0mChrome\u001b[0m\u001b[1;33m(\u001b[0m\u001b[1;33m)\u001b[0m\u001b[1;33m\u001b[0m\u001b[1;33m\u001b[0m\u001b[0m\n\u001b[0m\u001b[0;32m      2\u001b[0m \u001b[1;31m# browser.get( \"https://www.myauto.ge/ka/pr/45806513/iyideba-hechbeqi-toyota-aqua-2013-benzini-geo?fbclid=IwAR0AQcij4EiU9dAe_MCPVVhnS_sFVTMBEC3A_l0Ms8dLMufLDle1VBam01A\" )\u001b[0m\u001b[1;33m\u001b[0m\u001b[1;33m\u001b[0m\u001b[1;33m\u001b[0m\u001b[0m\n\u001b[0;32m      3\u001b[0m \u001b[1;31m# html_source = browser.page_source\u001b[0m\u001b[1;33m\u001b[0m\u001b[1;33m\u001b[0m\u001b[1;33m\u001b[0m\u001b[0m\n\u001b[0;32m      4\u001b[0m \u001b[1;33m\u001b[0m\u001b[0m\n\u001b[0;32m      5\u001b[0m \u001b[1;31m# # parse\u001b[0m\u001b[1;33m\u001b[0m\u001b[1;33m\u001b[0m\u001b[1;33m\u001b[0m\u001b[0m\n",
      "\u001b[1;32m~\\anaconda3\\lib\\site-packages\\selenium\\webdriver\\chrome\\webdriver.py\u001b[0m in \u001b[0;36m__init__\u001b[1;34m(self, executable_path, port, options, service_args, desired_capabilities, service_log_path, chrome_options, keep_alive)\u001b[0m\n\u001b[0;32m     71\u001b[0m             \u001b[0mservice_args\u001b[0m\u001b[1;33m=\u001b[0m\u001b[0mservice_args\u001b[0m\u001b[1;33m,\u001b[0m\u001b[1;33m\u001b[0m\u001b[1;33m\u001b[0m\u001b[0m\n\u001b[0;32m     72\u001b[0m             log_path=service_log_path)\n\u001b[1;32m---> 73\u001b[1;33m         \u001b[0mself\u001b[0m\u001b[1;33m.\u001b[0m\u001b[0mservice\u001b[0m\u001b[1;33m.\u001b[0m\u001b[0mstart\u001b[0m\u001b[1;33m(\u001b[0m\u001b[1;33m)\u001b[0m\u001b[1;33m\u001b[0m\u001b[1;33m\u001b[0m\u001b[0m\n\u001b[0m\u001b[0;32m     74\u001b[0m \u001b[1;33m\u001b[0m\u001b[0m\n\u001b[0;32m     75\u001b[0m         \u001b[1;32mtry\u001b[0m\u001b[1;33m:\u001b[0m\u001b[1;33m\u001b[0m\u001b[1;33m\u001b[0m\u001b[0m\n",
      "\u001b[1;32m~\\anaconda3\\lib\\site-packages\\selenium\\webdriver\\common\\service.py\u001b[0m in \u001b[0;36mstart\u001b[1;34m(self)\u001b[0m\n\u001b[0;32m     81\u001b[0m                 raise WebDriverException(\n\u001b[0;32m     82\u001b[0m                     \"'%s' executable needs to be in PATH. %s\" % (\n\u001b[1;32m---> 83\u001b[1;33m                         os.path.basename(self.path), self.start_error_message)\n\u001b[0m\u001b[0;32m     84\u001b[0m                 )\n\u001b[0;32m     85\u001b[0m             \u001b[1;32melif\u001b[0m \u001b[0merr\u001b[0m\u001b[1;33m.\u001b[0m\u001b[0merrno\u001b[0m \u001b[1;33m==\u001b[0m \u001b[0merrno\u001b[0m\u001b[1;33m.\u001b[0m\u001b[0mEACCES\u001b[0m\u001b[1;33m:\u001b[0m\u001b[1;33m\u001b[0m\u001b[1;33m\u001b[0m\u001b[0m\n",
      "\u001b[1;31mWebDriverException\u001b[0m: Message: 'chromedriver' executable needs to be in PATH. Please see https://sites.google.com/a/chromium.org/chromedriver/home\n"
     ]
    }
   ],
   "source": [
    "browser = webdriver.Chrome()\n",
    "# browser.get( \"https://www.myauto.ge/ka/pr/45806513/iyideba-hechbeqi-toyota-aqua-2013-benzini-geo?fbclid=IwAR0AQcij4EiU9dAe_MCPVVhnS_sFVTMBEC3A_l0Ms8dLMufLDle1VBam01A\" )\n",
    "# html_source = browser.page_source\n",
    "\n",
    "# # parse\n",
    "# soup = BeautifulSoup(html_source,'lxml')\n",
    "# table = soup.find_all('table')[0]\n",
    "# df = pd.read_html(str(table))\n",
    "# print(df[0].to_json(orient='records'))"
   ]
  },
  {
   "cell_type": "code",
   "execution_count": 3,
   "metadata": {},
   "outputs": [],
   "source": [
    "browser.get( \"https://www.myauto.ge/ka/pr/45806513/iyideba-hechbeqi-toyota-aqua-2013-benzini-geo?fbclid=IwAR0AQcij4EiU9dAe_MCPVVhnS_sFVTMBEC3A_l0Ms8dLMufLDle1VBam01A\" )"
   ]
  },
  {
   "cell_type": "code",
   "execution_count": 5,
   "metadata": {},
   "outputs": [
    {
     "name": "stdout",
     "output_type": "stream",
     "text": [
      "[]\n"
     ]
    }
   ],
   "source": [
    "html_source = browser.page_source\n",
    "soup = BeautifulSoup(html_source,'lxml')\n",
    "table = soup.find_all('table')[0]\n",
    "df = pd.read_html(str(table))\n",
    "print(df[0].to_json(orient='records'))"
   ]
  },
  {
   "cell_type": "code",
   "execution_count": 6,
   "metadata": {},
   "outputs": [
    {
     "data": {
      "text/plain": [
       "[Empty DataFrame\n",
       " Columns: [(მწარმოებელი TOYOTA, მოდელი Aqua s, გამოშვების წელი 2013, კატეგორიაჰეჩბექი, საწვავის ტიპი ბენზინი, ძრავის მოცულობა  1.4, გარბენი 31563 კმ, ცილინდრები 4, გადაცემათა კოლოფიავტომატიკა, წამყვანი თვლები წინა, კარები 4/5, საჭე მარჯვნივ, ფერი ნაცრისფერი, სალონის ფერი შავი, აირბეგი 6, VIN, დეტალური მახასიათებლები), (ABS, ელ. შუშები, კონდიციონერი, კლიმატკონტროლი, ტყავის სალონი, დისკები, ნავიგაცია, ცენტრალური საკეტი, ლუქი, სიგნალიზაცია, ბორტკომპიუტერი, ჰიდრავლიკა, მოცურების საწინააღმდეგო, სავარძლების გათბობა, პარკინგკონტროლი, უკანა ხედვის კამერა, ტექ. დათვალიერება)]\n",
       " Index: []]"
      ]
     },
     "execution_count": 6,
     "metadata": {},
     "output_type": "execute_result"
    }
   ],
   "source": [
    "df"
   ]
  },
  {
   "cell_type": "code",
   "execution_count": null,
   "metadata": {},
   "outputs": [],
   "source": []
  },
  {
   "cell_type": "code",
   "execution_count": null,
   "metadata": {},
   "outputs": [],
   "source": []
  },
  {
   "cell_type": "code",
   "execution_count": null,
   "metadata": {},
   "outputs": [],
   "source": []
  },
  {
   "cell_type": "code",
   "execution_count": null,
   "metadata": {},
   "outputs": [],
   "source": []
  },
  {
   "cell_type": "code",
   "execution_count": null,
   "metadata": {},
   "outputs": [],
   "source": []
  },
  {
   "cell_type": "code",
   "execution_count": 14,
   "metadata": {},
   "outputs": [],
   "source": [
    "import pandas as pd\n",
    "import requests\n",
    "from bs4 import BeautifulSoup\n",
    "from selenium import webdriver"
   ]
  },
  {
   "cell_type": "code",
   "execution_count": 15,
   "metadata": {},
   "outputs": [
    {
     "name": "stderr",
     "output_type": "stream",
     "text": [
      "C:\\Users\\bgoga\\anaconda3\\lib\\site-packages\\selenium\\webdriver\\phantomjs\\webdriver.py:49: UserWarning: Selenium support for PhantomJS has been deprecated, please use headless versions of Chrome or Firefox instead\n",
      "  warnings.warn('Selenium support for PhantomJS has been deprecated, please use headless '\n"
     ]
    }
   ],
   "source": [
    "browser = webdriver.PhantomJS()"
   ]
  },
  {
   "cell_type": "code",
   "execution_count": 16,
   "metadata": {},
   "outputs": [],
   "source": [
    "# get html using selenium webdriver, supports javascript\n",
    "browser.get( \"https://www.myauto.ge/en/pr/45806513/iyideba-hechbeqi-toyota-aqua-2013-benzini-geo?fbclid=IwAR0AQcij4EiU9dAe_MCPVVhnS_sFVTMBEC3A_l0Ms8dLMufLDle1VBam01A\" )\n",
    "html_source = browser.page_source"
   ]
  },
  {
   "cell_type": "code",
   "execution_count": 38,
   "metadata": {},
   "outputs": [
    {
     "data": {
      "text/plain": [
       "[          Manufacturer TOYOTA                   ABS\n",
       " 0      Model Land Cruiser 200           El. windows\n",
       " 1             Prod. year 2012       Air conditioner\n",
       " 2                CategoryJeep       Climate control\n",
       " 3            Fuel type Diesel      Leather interior\n",
       " 4   Engine volume  4.5  Turbo                  Rims\n",
       " 5            Mileage 80000 km     Navigation system\n",
       " 6                 Cylinders 8          Central lock\n",
       " 7      Gear box typeTiptronic                 Hatch\n",
       " 8            Drive wheels 4x4                 Alarm\n",
       " 9                   Doors 4/5        Board computer\n",
       " 10           Wheel Left wheel            Hydraulics\n",
       " 11                 Color Grey              Antiskid\n",
       " 12       Interior color Black           Seat heater\n",
       " 13                 Airbags 12       Parking control\n",
       " 14                        VIN      Rear view camera\n",
       " 15          Technical details  Technical inspection]"
      ]
     },
     "execution_count": 38,
     "metadata": {},
     "output_type": "execute_result"
    }
   ],
   "source": [
    "# parse\n",
    "soup = BeautifulSoup(html_source,'lxml')\n",
    "table = soup.find_all('table')[0]\n",
    "df = pd.read_html(str(table),  header=0)\n",
    "df"
   ]
  },
  {
   "cell_type": "code",
   "execution_count": 39,
   "metadata": {},
   "outputs": [
    {
     "data": {
      "text/plain": [
       "[          Manufacturer TOYOTA                   ABS\n",
       " 0      Model Land Cruiser 200           El. windows\n",
       " 1             Prod. year 2012       Air conditioner\n",
       " 2                CategoryJeep       Climate control\n",
       " 3            Fuel type Diesel      Leather interior\n",
       " 4   Engine volume  4.5  Turbo                  Rims\n",
       " 5            Mileage 80000 km     Navigation system\n",
       " 6                 Cylinders 8          Central lock\n",
       " 7      Gear box typeTiptronic                 Hatch\n",
       " 8            Drive wheels 4x4                 Alarm\n",
       " 9                   Doors 4/5        Board computer\n",
       " 10           Wheel Left wheel            Hydraulics\n",
       " 11                 Color Grey              Antiskid\n",
       " 12       Interior color Black           Seat heater\n",
       " 13                 Airbags 12       Parking control\n",
       " 14                        VIN      Rear view camera\n",
       " 15          Technical details  Technical inspection]"
      ]
     },
     "execution_count": 39,
     "metadata": {},
     "output_type": "execute_result"
    }
   ],
   "source": [
    "df"
   ]
  },
  {
   "cell_type": "code",
   "execution_count": 44,
   "metadata": {},
   "outputs": [
    {
     "data": {
      "text/html": [
       "<div>\n",
       "<style scoped>\n",
       "    .dataframe tbody tr th:only-of-type {\n",
       "        vertical-align: middle;\n",
       "    }\n",
       "\n",
       "    .dataframe tbody tr th {\n",
       "        vertical-align: top;\n",
       "    }\n",
       "\n",
       "    .dataframe thead th {\n",
       "        text-align: right;\n",
       "    }\n",
       "</style>\n",
       "<table border=\"1\" class=\"dataframe\">\n",
       "  <thead>\n",
       "    <tr style=\"text-align: right;\">\n",
       "      <th></th>\n",
       "      <th>Manufacturer TOYOTA</th>\n",
       "      <th>ABS</th>\n",
       "    </tr>\n",
       "  </thead>\n",
       "  <tbody>\n",
       "    <tr>\n",
       "      <th>0</th>\n",
       "      <td>Model Land Cruiser 200</td>\n",
       "      <td>El. windows</td>\n",
       "    </tr>\n",
       "    <tr>\n",
       "      <th>1</th>\n",
       "      <td>Prod. year 2012</td>\n",
       "      <td>Air conditioner</td>\n",
       "    </tr>\n",
       "    <tr>\n",
       "      <th>2</th>\n",
       "      <td>CategoryJeep</td>\n",
       "      <td>Climate control</td>\n",
       "    </tr>\n",
       "    <tr>\n",
       "      <th>3</th>\n",
       "      <td>Fuel type Diesel</td>\n",
       "      <td>Leather interior</td>\n",
       "    </tr>\n",
       "    <tr>\n",
       "      <th>4</th>\n",
       "      <td>Engine volume  4.5  Turbo</td>\n",
       "      <td>Rims</td>\n",
       "    </tr>\n",
       "    <tr>\n",
       "      <th>5</th>\n",
       "      <td>Mileage 80000 km</td>\n",
       "      <td>Navigation system</td>\n",
       "    </tr>\n",
       "    <tr>\n",
       "      <th>6</th>\n",
       "      <td>Cylinders 8</td>\n",
       "      <td>Central lock</td>\n",
       "    </tr>\n",
       "    <tr>\n",
       "      <th>7</th>\n",
       "      <td>Gear box typeTiptronic</td>\n",
       "      <td>Hatch</td>\n",
       "    </tr>\n",
       "    <tr>\n",
       "      <th>8</th>\n",
       "      <td>Drive wheels 4x4</td>\n",
       "      <td>Alarm</td>\n",
       "    </tr>\n",
       "    <tr>\n",
       "      <th>9</th>\n",
       "      <td>Doors 4/5</td>\n",
       "      <td>Board computer</td>\n",
       "    </tr>\n",
       "    <tr>\n",
       "      <th>10</th>\n",
       "      <td>Wheel Left wheel</td>\n",
       "      <td>Hydraulics</td>\n",
       "    </tr>\n",
       "    <tr>\n",
       "      <th>11</th>\n",
       "      <td>Color Grey</td>\n",
       "      <td>Antiskid</td>\n",
       "    </tr>\n",
       "    <tr>\n",
       "      <th>12</th>\n",
       "      <td>Interior color Black</td>\n",
       "      <td>Seat heater</td>\n",
       "    </tr>\n",
       "    <tr>\n",
       "      <th>13</th>\n",
       "      <td>Airbags 12</td>\n",
       "      <td>Parking control</td>\n",
       "    </tr>\n",
       "    <tr>\n",
       "      <th>14</th>\n",
       "      <td>VIN</td>\n",
       "      <td>Rear view camera</td>\n",
       "    </tr>\n",
       "    <tr>\n",
       "      <th>15</th>\n",
       "      <td>Technical details</td>\n",
       "      <td>Technical inspection</td>\n",
       "    </tr>\n",
       "  </tbody>\n",
       "</table>\n",
       "</div>"
      ],
      "text/plain": [
       "          Manufacturer TOYOTA                   ABS\n",
       "0      Model Land Cruiser 200           El. windows\n",
       "1             Prod. year 2012       Air conditioner\n",
       "2                CategoryJeep       Climate control\n",
       "3            Fuel type Diesel      Leather interior\n",
       "4   Engine volume  4.5  Turbo                  Rims\n",
       "5            Mileage 80000 km     Navigation system\n",
       "6                 Cylinders 8          Central lock\n",
       "7      Gear box typeTiptronic                 Hatch\n",
       "8            Drive wheels 4x4                 Alarm\n",
       "9                   Doors 4/5        Board computer\n",
       "10           Wheel Left wheel            Hydraulics\n",
       "11                 Color Grey              Antiskid\n",
       "12       Interior color Black           Seat heater\n",
       "13                 Airbags 12       Parking control\n",
       "14                        VIN      Rear view camera\n",
       "15          Technical details  Technical inspection"
      ]
     },
     "execution_count": 44,
     "metadata": {},
     "output_type": "execute_result"
    }
   ],
   "source": [
    "df[0]"
   ]
  },
  {
   "cell_type": "code",
   "execution_count": 22,
   "metadata": {},
   "outputs": [],
   "source": [
    "# Create dataframe where we will save our details about cars\n",
    "final_data = pd.DataFrame()"
   ]
  },
  {
   "cell_type": "code",
   "execution_count": 23,
   "metadata": {},
   "outputs": [
    {
     "ename": "ValueError",
     "evalue": "Length mismatch: Expected axis has 0 elements, new values have 4 elements",
     "output_type": "error",
     "traceback": [
      "\u001b[1;31m---------------------------------------------------------------------------\u001b[0m",
      "\u001b[1;31mValueError\u001b[0m                                Traceback (most recent call last)",
      "\u001b[1;32m<ipython-input-23-731245f5e6e3>\u001b[0m in \u001b[0;36m<module>\u001b[1;34m\u001b[0m\n\u001b[1;32m----> 1\u001b[1;33m \u001b[0mfinal_data\u001b[0m\u001b[1;33m.\u001b[0m\u001b[0mcolumns\u001b[0m \u001b[1;33m=\u001b[0m \u001b[1;33m[\u001b[0m\u001b[1;34m\"Manufacturer\"\u001b[0m\u001b[1;33m,\u001b[0m \u001b[1;34m\"Model\"\u001b[0m\u001b[1;33m,\u001b[0m \u001b[1;34m\"Category\"\u001b[0m\u001b[1;33m,\u001b[0m \u001b[1;34m\"Mileage\"\u001b[0m\u001b[1;33m]\u001b[0m\u001b[1;33m\u001b[0m\u001b[1;33m\u001b[0m\u001b[0m\n\u001b[0m\u001b[0;32m      2\u001b[0m \u001b[1;33m\u001b[0m\u001b[0m\n",
      "\u001b[1;32m~\\anaconda3\\lib\\site-packages\\pandas\\core\\generic.py\u001b[0m in \u001b[0;36m__setattr__\u001b[1;34m(self, name, value)\u001b[0m\n\u001b[0;32m   5285\u001b[0m         \u001b[1;32mtry\u001b[0m\u001b[1;33m:\u001b[0m\u001b[1;33m\u001b[0m\u001b[1;33m\u001b[0m\u001b[0m\n\u001b[0;32m   5286\u001b[0m             \u001b[0mobject\u001b[0m\u001b[1;33m.\u001b[0m\u001b[0m__getattribute__\u001b[0m\u001b[1;33m(\u001b[0m\u001b[0mself\u001b[0m\u001b[1;33m,\u001b[0m \u001b[0mname\u001b[0m\u001b[1;33m)\u001b[0m\u001b[1;33m\u001b[0m\u001b[1;33m\u001b[0m\u001b[0m\n\u001b[1;32m-> 5287\u001b[1;33m             \u001b[1;32mreturn\u001b[0m \u001b[0mobject\u001b[0m\u001b[1;33m.\u001b[0m\u001b[0m__setattr__\u001b[0m\u001b[1;33m(\u001b[0m\u001b[0mself\u001b[0m\u001b[1;33m,\u001b[0m \u001b[0mname\u001b[0m\u001b[1;33m,\u001b[0m \u001b[0mvalue\u001b[0m\u001b[1;33m)\u001b[0m\u001b[1;33m\u001b[0m\u001b[1;33m\u001b[0m\u001b[0m\n\u001b[0m\u001b[0;32m   5288\u001b[0m         \u001b[1;32mexcept\u001b[0m \u001b[0mAttributeError\u001b[0m\u001b[1;33m:\u001b[0m\u001b[1;33m\u001b[0m\u001b[1;33m\u001b[0m\u001b[0m\n\u001b[0;32m   5289\u001b[0m             \u001b[1;32mpass\u001b[0m\u001b[1;33m\u001b[0m\u001b[1;33m\u001b[0m\u001b[0m\n",
      "\u001b[1;32mpandas\\_libs\\properties.pyx\u001b[0m in \u001b[0;36mpandas._libs.properties.AxisProperty.__set__\u001b[1;34m()\u001b[0m\n",
      "\u001b[1;32m~\\anaconda3\\lib\\site-packages\\pandas\\core\\generic.py\u001b[0m in \u001b[0;36m_set_axis\u001b[1;34m(self, axis, labels)\u001b[0m\n\u001b[0;32m    659\u001b[0m \u001b[1;33m\u001b[0m\u001b[0m\n\u001b[0;32m    660\u001b[0m     \u001b[1;32mdef\u001b[0m \u001b[0m_set_axis\u001b[0m\u001b[1;33m(\u001b[0m\u001b[0mself\u001b[0m\u001b[1;33m,\u001b[0m \u001b[0maxis\u001b[0m\u001b[1;33m,\u001b[0m \u001b[0mlabels\u001b[0m\u001b[1;33m)\u001b[0m \u001b[1;33m->\u001b[0m \u001b[1;32mNone\u001b[0m\u001b[1;33m:\u001b[0m\u001b[1;33m\u001b[0m\u001b[1;33m\u001b[0m\u001b[0m\n\u001b[1;32m--> 661\u001b[1;33m         \u001b[0mself\u001b[0m\u001b[1;33m.\u001b[0m\u001b[0m_data\u001b[0m\u001b[1;33m.\u001b[0m\u001b[0mset_axis\u001b[0m\u001b[1;33m(\u001b[0m\u001b[0maxis\u001b[0m\u001b[1;33m,\u001b[0m \u001b[0mlabels\u001b[0m\u001b[1;33m)\u001b[0m\u001b[1;33m\u001b[0m\u001b[1;33m\u001b[0m\u001b[0m\n\u001b[0m\u001b[0;32m    662\u001b[0m         \u001b[0mself\u001b[0m\u001b[1;33m.\u001b[0m\u001b[0m_clear_item_cache\u001b[0m\u001b[1;33m(\u001b[0m\u001b[1;33m)\u001b[0m\u001b[1;33m\u001b[0m\u001b[1;33m\u001b[0m\u001b[0m\n\u001b[0;32m    663\u001b[0m \u001b[1;33m\u001b[0m\u001b[0m\n",
      "\u001b[1;32m~\\anaconda3\\lib\\site-packages\\pandas\\core\\internals\\managers.py\u001b[0m in \u001b[0;36mset_axis\u001b[1;34m(self, axis, new_labels)\u001b[0m\n\u001b[0;32m    176\u001b[0m         \u001b[1;32mif\u001b[0m \u001b[0mnew_len\u001b[0m \u001b[1;33m!=\u001b[0m \u001b[0mold_len\u001b[0m\u001b[1;33m:\u001b[0m\u001b[1;33m\u001b[0m\u001b[1;33m\u001b[0m\u001b[0m\n\u001b[0;32m    177\u001b[0m             raise ValueError(\n\u001b[1;32m--> 178\u001b[1;33m                 \u001b[1;34mf\"Length mismatch: Expected axis has {old_len} elements, new \"\u001b[0m\u001b[1;33m\u001b[0m\u001b[1;33m\u001b[0m\u001b[0m\n\u001b[0m\u001b[0;32m    179\u001b[0m                 \u001b[1;34mf\"values have {new_len} elements\"\u001b[0m\u001b[1;33m\u001b[0m\u001b[1;33m\u001b[0m\u001b[0m\n\u001b[0;32m    180\u001b[0m             )\n",
      "\u001b[1;31mValueError\u001b[0m: Length mismatch: Expected axis has 0 elements, new values have 4 elements"
     ]
    }
   ],
   "source": [
    "final_data.columns = [\"Manufacturer\", \"Model\", \"Category\", \"Mileage\"]\n",
    "\n"
   ]
  },
  {
   "cell_type": "code",
   "execution_count": null,
   "metadata": {},
   "outputs": [],
   "source": []
  }
 ],
 "metadata": {
  "kernelspec": {
   "display_name": "Python 3",
   "language": "python",
   "name": "python3"
  },
  "language_info": {
   "codemirror_mode": {
    "name": "ipython",
    "version": 3
   },
   "file_extension": ".py",
   "mimetype": "text/x-python",
   "name": "python",
   "nbconvert_exporter": "python",
   "pygments_lexer": "ipython3",
   "version": "3.7.6"
  }
 },
 "nbformat": 4,
 "nbformat_minor": 4
}
